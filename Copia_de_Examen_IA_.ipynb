{
  "nbformat": 4,
  "nbformat_minor": 0,
  "metadata": {
    "colab": {
      "provenance": [],
      "authorship_tag": "ABX9TyOMLPZA+BUjULcMzgyCX65+",
      "include_colab_link": true
    },
    "kernelspec": {
      "name": "python3",
      "display_name": "Python 3"
    },
    "language_info": {
      "name": "python"
    }
  },
  "cells": [
    {
      "cell_type": "markdown",
      "metadata": {
        "id": "view-in-github",
        "colab_type": "text"
      },
      "source": [
        "<a href=\"https://colab.research.google.com/github/elimart12/-CRUD_Terminal_MySQL/blob/main/Copia_de_Examen_IA_.ipynb\" target=\"_parent\"><img src=\"https://colab.research.google.com/assets/colab-badge.svg\" alt=\"Open In Colab\"/></a>"
      ]
    },
    {
      "cell_type": "code",
      "source": [
        "import kagglehub\n",
        "\n",
        "# Download latest version\n",
        "path = kagglehub.dataset_download(\"piterfm/olympic-games-medals-19862018\")\n",
        "\n",
        "print(\"Path to dataset files:\", path)"
      ],
      "metadata": {
        "colab": {
          "base_uri": "https://localhost:8080/"
        },
        "id": "j4bVZZr98oJp",
        "outputId": "e312468a-ebb6-467e-93ce-cc4100fd89a6"
      },
      "execution_count": null,
      "outputs": [
        {
          "output_type": "stream",
          "name": "stdout",
          "text": [
            "Downloading from https://www.kaggle.com/api/v1/datasets/download/piterfm/olympic-games-medals-19862018?dataset_version_number=9...\n"
          ]
        },
        {
          "output_type": "stream",
          "name": "stderr",
          "text": [
            "100%|██████████| 13.9M/13.9M [00:00<00:00, 103MB/s] "
          ]
        },
        {
          "output_type": "stream",
          "name": "stdout",
          "text": [
            "Extracting files...\n"
          ]
        },
        {
          "output_type": "stream",
          "name": "stderr",
          "text": [
            "\n"
          ]
        },
        {
          "output_type": "stream",
          "name": "stdout",
          "text": [
            "Path to dataset files: /root/.cache/kagglehub/datasets/piterfm/olympic-games-medals-19862018/versions/9\n"
          ]
        }
      ]
    },
    {
      "cell_type": "code",
      "source": [
        "import pandas as pd\n",
        "\n",
        "# Ruta al dataset descargado\n",
        "base_path = \"/root/.cache/kagglehub/datasets/piterfm/olympic-games-medals-19862018/versions/9\"\n",
        "\n",
        "# Carga de los CSV\n",
        "medals_df = pd.read_csv(f\"{base_path}/olympic_medals.csv\")\n",
        "results_df = pd.read_csv(f\"{base_path}/olympic_results.csv\")\n",
        "\n",
        "# Vista previa\n",
        "medals_df.head()\n"
      ],
      "metadata": {
        "colab": {
          "base_uri": "https://localhost:8080/",
          "height": 313
        },
        "id": "_1_wXFfd9Dq5",
        "outputId": "9ba16367-bac9-4cfc-bd24-d2a1da550958"
      },
      "execution_count": null,
      "outputs": [
        {
          "output_type": "execute_result",
          "data": {
            "text/plain": [
              "  discipline_title     slug_game    event_title event_gender medal_type  \\\n",
              "0          Curling  beijing-2022  Mixed Doubles        Mixed       GOLD   \n",
              "1          Curling  beijing-2022  Mixed Doubles        Mixed       GOLD   \n",
              "2          Curling  beijing-2022  Mixed Doubles        Mixed     SILVER   \n",
              "3          Curling  beijing-2022  Mixed Doubles        Mixed     SILVER   \n",
              "4          Curling  beijing-2022  Mixed Doubles        Mixed     BRONZE   \n",
              "\n",
              "  participant_type participant_title  \\\n",
              "0         GameTeam             Italy   \n",
              "1         GameTeam             Italy   \n",
              "2         GameTeam            Norway   \n",
              "3         GameTeam            Norway   \n",
              "4         GameTeam            Sweden   \n",
              "\n",
              "                                         athlete_url     athlete_full_name  \\\n",
              "0  https://olympics.com/en/athletes/stefania-cons...  Stefania CONSTANTINI   \n",
              "1      https://olympics.com/en/athletes/amos-mosaner          Amos MOSANER   \n",
              "2  https://olympics.com/en/athletes/kristin-skaslien      Kristin SKASLIEN   \n",
              "3  https://olympics.com/en/athletes/magnus-nedreg...    Magnus NEDREGOTTEN   \n",
              "4     https://olympics.com/en/athletes/almida-de-val         Almida DE VAL   \n",
              "\n",
              "  country_name country_code country_3_letter_code  \n",
              "0        Italy           IT                   ITA  \n",
              "1        Italy           IT                   ITA  \n",
              "2       Norway           NO                   NOR  \n",
              "3       Norway           NO                   NOR  \n",
              "4       Sweden           SE                   SWE  "
            ],
            "text/html": [
              "\n",
              "  <div id=\"df-bbf145ed-d457-432b-88da-b762b28d2f7d\" class=\"colab-df-container\">\n",
              "    <div>\n",
              "<style scoped>\n",
              "    .dataframe tbody tr th:only-of-type {\n",
              "        vertical-align: middle;\n",
              "    }\n",
              "\n",
              "    .dataframe tbody tr th {\n",
              "        vertical-align: top;\n",
              "    }\n",
              "\n",
              "    .dataframe thead th {\n",
              "        text-align: right;\n",
              "    }\n",
              "</style>\n",
              "<table border=\"1\" class=\"dataframe\">\n",
              "  <thead>\n",
              "    <tr style=\"text-align: right;\">\n",
              "      <th></th>\n",
              "      <th>discipline_title</th>\n",
              "      <th>slug_game</th>\n",
              "      <th>event_title</th>\n",
              "      <th>event_gender</th>\n",
              "      <th>medal_type</th>\n",
              "      <th>participant_type</th>\n",
              "      <th>participant_title</th>\n",
              "      <th>athlete_url</th>\n",
              "      <th>athlete_full_name</th>\n",
              "      <th>country_name</th>\n",
              "      <th>country_code</th>\n",
              "      <th>country_3_letter_code</th>\n",
              "    </tr>\n",
              "  </thead>\n",
              "  <tbody>\n",
              "    <tr>\n",
              "      <th>0</th>\n",
              "      <td>Curling</td>\n",
              "      <td>beijing-2022</td>\n",
              "      <td>Mixed Doubles</td>\n",
              "      <td>Mixed</td>\n",
              "      <td>GOLD</td>\n",
              "      <td>GameTeam</td>\n",
              "      <td>Italy</td>\n",
              "      <td>https://olympics.com/en/athletes/stefania-cons...</td>\n",
              "      <td>Stefania CONSTANTINI</td>\n",
              "      <td>Italy</td>\n",
              "      <td>IT</td>\n",
              "      <td>ITA</td>\n",
              "    </tr>\n",
              "    <tr>\n",
              "      <th>1</th>\n",
              "      <td>Curling</td>\n",
              "      <td>beijing-2022</td>\n",
              "      <td>Mixed Doubles</td>\n",
              "      <td>Mixed</td>\n",
              "      <td>GOLD</td>\n",
              "      <td>GameTeam</td>\n",
              "      <td>Italy</td>\n",
              "      <td>https://olympics.com/en/athletes/amos-mosaner</td>\n",
              "      <td>Amos MOSANER</td>\n",
              "      <td>Italy</td>\n",
              "      <td>IT</td>\n",
              "      <td>ITA</td>\n",
              "    </tr>\n",
              "    <tr>\n",
              "      <th>2</th>\n",
              "      <td>Curling</td>\n",
              "      <td>beijing-2022</td>\n",
              "      <td>Mixed Doubles</td>\n",
              "      <td>Mixed</td>\n",
              "      <td>SILVER</td>\n",
              "      <td>GameTeam</td>\n",
              "      <td>Norway</td>\n",
              "      <td>https://olympics.com/en/athletes/kristin-skaslien</td>\n",
              "      <td>Kristin SKASLIEN</td>\n",
              "      <td>Norway</td>\n",
              "      <td>NO</td>\n",
              "      <td>NOR</td>\n",
              "    </tr>\n",
              "    <tr>\n",
              "      <th>3</th>\n",
              "      <td>Curling</td>\n",
              "      <td>beijing-2022</td>\n",
              "      <td>Mixed Doubles</td>\n",
              "      <td>Mixed</td>\n",
              "      <td>SILVER</td>\n",
              "      <td>GameTeam</td>\n",
              "      <td>Norway</td>\n",
              "      <td>https://olympics.com/en/athletes/magnus-nedreg...</td>\n",
              "      <td>Magnus NEDREGOTTEN</td>\n",
              "      <td>Norway</td>\n",
              "      <td>NO</td>\n",
              "      <td>NOR</td>\n",
              "    </tr>\n",
              "    <tr>\n",
              "      <th>4</th>\n",
              "      <td>Curling</td>\n",
              "      <td>beijing-2022</td>\n",
              "      <td>Mixed Doubles</td>\n",
              "      <td>Mixed</td>\n",
              "      <td>BRONZE</td>\n",
              "      <td>GameTeam</td>\n",
              "      <td>Sweden</td>\n",
              "      <td>https://olympics.com/en/athletes/almida-de-val</td>\n",
              "      <td>Almida DE VAL</td>\n",
              "      <td>Sweden</td>\n",
              "      <td>SE</td>\n",
              "      <td>SWE</td>\n",
              "    </tr>\n",
              "  </tbody>\n",
              "</table>\n",
              "</div>\n",
              "    <div class=\"colab-df-buttons\">\n",
              "\n",
              "  <div class=\"colab-df-container\">\n",
              "    <button class=\"colab-df-convert\" onclick=\"convertToInteractive('df-bbf145ed-d457-432b-88da-b762b28d2f7d')\"\n",
              "            title=\"Convert this dataframe to an interactive table.\"\n",
              "            style=\"display:none;\">\n",
              "\n",
              "  <svg xmlns=\"http://www.w3.org/2000/svg\" height=\"24px\" viewBox=\"0 -960 960 960\">\n",
              "    <path d=\"M120-120v-720h720v720H120Zm60-500h600v-160H180v160Zm220 220h160v-160H400v160Zm0 220h160v-160H400v160ZM180-400h160v-160H180v160Zm440 0h160v-160H620v160ZM180-180h160v-160H180v160Zm440 0h160v-160H620v160Z\"/>\n",
              "  </svg>\n",
              "    </button>\n",
              "\n",
              "  <style>\n",
              "    .colab-df-container {\n",
              "      display:flex;\n",
              "      gap: 12px;\n",
              "    }\n",
              "\n",
              "    .colab-df-convert {\n",
              "      background-color: #E8F0FE;\n",
              "      border: none;\n",
              "      border-radius: 50%;\n",
              "      cursor: pointer;\n",
              "      display: none;\n",
              "      fill: #1967D2;\n",
              "      height: 32px;\n",
              "      padding: 0 0 0 0;\n",
              "      width: 32px;\n",
              "    }\n",
              "\n",
              "    .colab-df-convert:hover {\n",
              "      background-color: #E2EBFA;\n",
              "      box-shadow: 0px 1px 2px rgba(60, 64, 67, 0.3), 0px 1px 3px 1px rgba(60, 64, 67, 0.15);\n",
              "      fill: #174EA6;\n",
              "    }\n",
              "\n",
              "    .colab-df-buttons div {\n",
              "      margin-bottom: 4px;\n",
              "    }\n",
              "\n",
              "    [theme=dark] .colab-df-convert {\n",
              "      background-color: #3B4455;\n",
              "      fill: #D2E3FC;\n",
              "    }\n",
              "\n",
              "    [theme=dark] .colab-df-convert:hover {\n",
              "      background-color: #434B5C;\n",
              "      box-shadow: 0px 1px 3px 1px rgba(0, 0, 0, 0.15);\n",
              "      filter: drop-shadow(0px 1px 2px rgba(0, 0, 0, 0.3));\n",
              "      fill: #FFFFFF;\n",
              "    }\n",
              "  </style>\n",
              "\n",
              "    <script>\n",
              "      const buttonEl =\n",
              "        document.querySelector('#df-bbf145ed-d457-432b-88da-b762b28d2f7d button.colab-df-convert');\n",
              "      buttonEl.style.display =\n",
              "        google.colab.kernel.accessAllowed ? 'block' : 'none';\n",
              "\n",
              "      async function convertToInteractive(key) {\n",
              "        const element = document.querySelector('#df-bbf145ed-d457-432b-88da-b762b28d2f7d');\n",
              "        const dataTable =\n",
              "          await google.colab.kernel.invokeFunction('convertToInteractive',\n",
              "                                                    [key], {});\n",
              "        if (!dataTable) return;\n",
              "\n",
              "        const docLinkHtml = 'Like what you see? Visit the ' +\n",
              "          '<a target=\"_blank\" href=https://colab.research.google.com/notebooks/data_table.ipynb>data table notebook</a>'\n",
              "          + ' to learn more about interactive tables.';\n",
              "        element.innerHTML = '';\n",
              "        dataTable['output_type'] = 'display_data';\n",
              "        await google.colab.output.renderOutput(dataTable, element);\n",
              "        const docLink = document.createElement('div');\n",
              "        docLink.innerHTML = docLinkHtml;\n",
              "        element.appendChild(docLink);\n",
              "      }\n",
              "    </script>\n",
              "  </div>\n",
              "\n",
              "\n",
              "    <div id=\"df-a394c4f5-3d08-4ec1-a89e-31ed0115bebd\">\n",
              "      <button class=\"colab-df-quickchart\" onclick=\"quickchart('df-a394c4f5-3d08-4ec1-a89e-31ed0115bebd')\"\n",
              "                title=\"Suggest charts\"\n",
              "                style=\"display:none;\">\n",
              "\n",
              "<svg xmlns=\"http://www.w3.org/2000/svg\" height=\"24px\"viewBox=\"0 0 24 24\"\n",
              "     width=\"24px\">\n",
              "    <g>\n",
              "        <path d=\"M19 3H5c-1.1 0-2 .9-2 2v14c0 1.1.9 2 2 2h14c1.1 0 2-.9 2-2V5c0-1.1-.9-2-2-2zM9 17H7v-7h2v7zm4 0h-2V7h2v10zm4 0h-2v-4h2v4z\"/>\n",
              "    </g>\n",
              "</svg>\n",
              "      </button>\n",
              "\n",
              "<style>\n",
              "  .colab-df-quickchart {\n",
              "      --bg-color: #E8F0FE;\n",
              "      --fill-color: #1967D2;\n",
              "      --hover-bg-color: #E2EBFA;\n",
              "      --hover-fill-color: #174EA6;\n",
              "      --disabled-fill-color: #AAA;\n",
              "      --disabled-bg-color: #DDD;\n",
              "  }\n",
              "\n",
              "  [theme=dark] .colab-df-quickchart {\n",
              "      --bg-color: #3B4455;\n",
              "      --fill-color: #D2E3FC;\n",
              "      --hover-bg-color: #434B5C;\n",
              "      --hover-fill-color: #FFFFFF;\n",
              "      --disabled-bg-color: #3B4455;\n",
              "      --disabled-fill-color: #666;\n",
              "  }\n",
              "\n",
              "  .colab-df-quickchart {\n",
              "    background-color: var(--bg-color);\n",
              "    border: none;\n",
              "    border-radius: 50%;\n",
              "    cursor: pointer;\n",
              "    display: none;\n",
              "    fill: var(--fill-color);\n",
              "    height: 32px;\n",
              "    padding: 0;\n",
              "    width: 32px;\n",
              "  }\n",
              "\n",
              "  .colab-df-quickchart:hover {\n",
              "    background-color: var(--hover-bg-color);\n",
              "    box-shadow: 0 1px 2px rgba(60, 64, 67, 0.3), 0 1px 3px 1px rgba(60, 64, 67, 0.15);\n",
              "    fill: var(--button-hover-fill-color);\n",
              "  }\n",
              "\n",
              "  .colab-df-quickchart-complete:disabled,\n",
              "  .colab-df-quickchart-complete:disabled:hover {\n",
              "    background-color: var(--disabled-bg-color);\n",
              "    fill: var(--disabled-fill-color);\n",
              "    box-shadow: none;\n",
              "  }\n",
              "\n",
              "  .colab-df-spinner {\n",
              "    border: 2px solid var(--fill-color);\n",
              "    border-color: transparent;\n",
              "    border-bottom-color: var(--fill-color);\n",
              "    animation:\n",
              "      spin 1s steps(1) infinite;\n",
              "  }\n",
              "\n",
              "  @keyframes spin {\n",
              "    0% {\n",
              "      border-color: transparent;\n",
              "      border-bottom-color: var(--fill-color);\n",
              "      border-left-color: var(--fill-color);\n",
              "    }\n",
              "    20% {\n",
              "      border-color: transparent;\n",
              "      border-left-color: var(--fill-color);\n",
              "      border-top-color: var(--fill-color);\n",
              "    }\n",
              "    30% {\n",
              "      border-color: transparent;\n",
              "      border-left-color: var(--fill-color);\n",
              "      border-top-color: var(--fill-color);\n",
              "      border-right-color: var(--fill-color);\n",
              "    }\n",
              "    40% {\n",
              "      border-color: transparent;\n",
              "      border-right-color: var(--fill-color);\n",
              "      border-top-color: var(--fill-color);\n",
              "    }\n",
              "    60% {\n",
              "      border-color: transparent;\n",
              "      border-right-color: var(--fill-color);\n",
              "    }\n",
              "    80% {\n",
              "      border-color: transparent;\n",
              "      border-right-color: var(--fill-color);\n",
              "      border-bottom-color: var(--fill-color);\n",
              "    }\n",
              "    90% {\n",
              "      border-color: transparent;\n",
              "      border-bottom-color: var(--fill-color);\n",
              "    }\n",
              "  }\n",
              "</style>\n",
              "\n",
              "      <script>\n",
              "        async function quickchart(key) {\n",
              "          const quickchartButtonEl =\n",
              "            document.querySelector('#' + key + ' button');\n",
              "          quickchartButtonEl.disabled = true;  // To prevent multiple clicks.\n",
              "          quickchartButtonEl.classList.add('colab-df-spinner');\n",
              "          try {\n",
              "            const charts = await google.colab.kernel.invokeFunction(\n",
              "                'suggestCharts', [key], {});\n",
              "          } catch (error) {\n",
              "            console.error('Error during call to suggestCharts:', error);\n",
              "          }\n",
              "          quickchartButtonEl.classList.remove('colab-df-spinner');\n",
              "          quickchartButtonEl.classList.add('colab-df-quickchart-complete');\n",
              "        }\n",
              "        (() => {\n",
              "          let quickchartButtonEl =\n",
              "            document.querySelector('#df-a394c4f5-3d08-4ec1-a89e-31ed0115bebd button');\n",
              "          quickchartButtonEl.style.display =\n",
              "            google.colab.kernel.accessAllowed ? 'block' : 'none';\n",
              "        })();\n",
              "      </script>\n",
              "    </div>\n",
              "\n",
              "    </div>\n",
              "  </div>\n"
            ],
            "application/vnd.google.colaboratory.intrinsic+json": {
              "type": "dataframe",
              "variable_name": "medals_df",
              "summary": "{\n  \"name\": \"medals_df\",\n  \"rows\": 21697,\n  \"fields\": [\n    {\n      \"column\": \"discipline_title\",\n      \"properties\": {\n        \"dtype\": \"category\",\n        \"num_unique_values\": 86,\n        \"samples\": [\n          \"Military Patrol\",\n          \"Curling\",\n          \"Equestrian Dressage\"\n        ],\n        \"semantic_type\": \"\",\n        \"description\": \"\"\n      }\n    },\n    {\n      \"column\": \"slug_game\",\n      \"properties\": {\n        \"dtype\": \"category\",\n        \"num_unique_values\": 53,\n        \"samples\": [\n          \"los-angeles-1984\",\n          \"los-angeles-1932\",\n          \"antwerp-1920\"\n        ],\n        \"semantic_type\": \"\",\n        \"description\": \"\"\n      }\n    },\n    {\n      \"column\": \"event_title\",\n      \"properties\": {\n        \"dtype\": \"category\",\n        \"num_unique_values\": 1436,\n        \"samples\": [\n          \"eight with coxswain 8 men\",\n          \"4x6km relay women\",\n          \"60 - 64 kg men\"\n        ],\n        \"semantic_type\": \"\",\n        \"description\": \"\"\n      }\n    },\n    {\n      \"column\": \"event_gender\",\n      \"properties\": {\n        \"dtype\": \"category\",\n        \"num_unique_values\": 4,\n        \"samples\": [\n          \"Women\",\n          \"Open\",\n          \"Mixed\"\n        ],\n        \"semantic_type\": \"\",\n        \"description\": \"\"\n      }\n    },\n    {\n      \"column\": \"medal_type\",\n      \"properties\": {\n        \"dtype\": \"category\",\n        \"num_unique_values\": 3,\n        \"samples\": [\n          \"GOLD\",\n          \"SILVER\",\n          \"BRONZE\"\n        ],\n        \"semantic_type\": \"\",\n        \"description\": \"\"\n      }\n    },\n    {\n      \"column\": \"participant_type\",\n      \"properties\": {\n        \"dtype\": \"category\",\n        \"num_unique_values\": 2,\n        \"samples\": [\n          \"Athlete\",\n          \"GameTeam\"\n        ],\n        \"semantic_type\": \"\",\n        \"description\": \"\"\n      }\n    },\n    {\n      \"column\": \"participant_title\",\n      \"properties\": {\n        \"dtype\": \"category\",\n        \"num_unique_values\": 493,\n        \"samples\": [\n          \"Olle\",\n          \"Bencic / Golubic\"\n        ],\n        \"semantic_type\": \"\",\n        \"description\": \"\"\n      }\n    },\n    {\n      \"column\": \"athlete_url\",\n      \"properties\": {\n        \"dtype\": \"string\",\n        \"num_unique_values\": 12116,\n        \"samples\": [\n          \"https://olympics.com/en/athletes/katja-seizinger\",\n          \"https://olympics.com/en/athletes/christina-brehmer-lathan\"\n        ],\n        \"semantic_type\": \"\",\n        \"description\": \"\"\n      }\n    },\n    {\n      \"column\": \"athlete_full_name\",\n      \"properties\": {\n        \"dtype\": \"string\",\n        \"num_unique_values\": 12895,\n        \"samples\": [\n          \"Jean-Luc CRETIER\",\n          \"Krisztian BARTFAI\"\n        ],\n        \"semantic_type\": \"\",\n        \"description\": \"\"\n      }\n    },\n    {\n      \"column\": \"country_name\",\n      \"properties\": {\n        \"dtype\": \"category\",\n        \"num_unique_values\": 154,\n        \"samples\": [\n          \"Belarus\",\n          \"Liechtenstein\"\n        ],\n        \"semantic_type\": \"\",\n        \"description\": \"\"\n      }\n    },\n    {\n      \"column\": \"country_code\",\n      \"properties\": {\n        \"dtype\": \"category\",\n        \"num_unique_values\": 143,\n        \"samples\": [\n          \"ER\",\n          \"KR\"\n        ],\n        \"semantic_type\": \"\",\n        \"description\": \"\"\n      }\n    },\n    {\n      \"column\": \"country_3_letter_code\",\n      \"properties\": {\n        \"dtype\": \"category\",\n        \"num_unique_values\": 154,\n        \"samples\": [\n          \"BLR\",\n          \"LIE\"\n        ],\n        \"semantic_type\": \"\",\n        \"description\": \"\"\n      }\n    }\n  ]\n}"
            }
          },
          "metadata": {},
          "execution_count": 2
        }
      ]
    },
    {
      "cell_type": "code",
      "source": [
        "# Cantidad de datos nulos en cada dataset\n",
        "print(\"Nulos en olympic_medals.csv:\")\n",
        "print(medals_df.isnull().sum())\n",
        "\n",
        "print(\"\\nNulos en olympic_results.csv:\")\n",
        "print(results_df.isnull().sum())\n"
      ],
      "metadata": {
        "colab": {
          "base_uri": "https://localhost:8080/"
        },
        "id": "5uI6id409iJI",
        "outputId": "69b5364c-2827-4777-bf96-4d14c4fc69ad"
      },
      "execution_count": null,
      "outputs": [
        {
          "output_type": "stream",
          "name": "stdout",
          "text": [
            "Nulos en olympic_medals.csv:\n",
            "discipline_title             0\n",
            "slug_game                    0\n",
            "event_title                  0\n",
            "event_gender                 0\n",
            "medal_type                   0\n",
            "participant_type             0\n",
            "participant_title        15113\n",
            "athlete_url               4670\n",
            "athlete_full_name         3624\n",
            "country_name                 0\n",
            "country_code              1502\n",
            "country_3_letter_code        0\n",
            "dtype: int64\n",
            "\n",
            "Nulos en olympic_results.csv:\n",
            "discipline_title              0\n",
            "event_title                   0\n",
            "slug_game                     0\n",
            "participant_type              0\n",
            "medal_type               142598\n",
            "athletes                 154828\n",
            "rank_equal               130278\n",
            "rank_position              3878\n",
            "country_name                  0\n",
            "country_code               5036\n",
            "country_3_letter_code         0\n",
            "athlete_url               32813\n",
            "athlete_full_name         21158\n",
            "value_unit                84158\n",
            "value_type                72755\n",
            "dtype: int64\n"
          ]
        }
      ]
    },
    {
      "cell_type": "code",
      "source": [
        "(medals_df.isnull().sum() / len(medals_df)) * 100\n"
      ],
      "metadata": {
        "colab": {
          "base_uri": "https://localhost:8080/",
          "height": 460
        },
        "id": "T3ECu8UjH5zy",
        "outputId": "02642ecf-45ed-4847-ddde-fc3e87b0f33f"
      },
      "execution_count": null,
      "outputs": [
        {
          "output_type": "execute_result",
          "data": {
            "text/plain": [
              "discipline_title          0.000000\n",
              "slug_game                 0.000000\n",
              "event_title               0.000000\n",
              "event_gender              0.000000\n",
              "medal_type                0.000000\n",
              "participant_type          0.000000\n",
              "participant_title        69.654791\n",
              "athlete_url              21.523713\n",
              "athlete_full_name        16.702770\n",
              "country_name              0.000000\n",
              "country_code              6.922616\n",
              "country_3_letter_code     0.000000\n",
              "dtype: float64"
            ],
            "text/html": [
              "<div>\n",
              "<style scoped>\n",
              "    .dataframe tbody tr th:only-of-type {\n",
              "        vertical-align: middle;\n",
              "    }\n",
              "\n",
              "    .dataframe tbody tr th {\n",
              "        vertical-align: top;\n",
              "    }\n",
              "\n",
              "    .dataframe thead th {\n",
              "        text-align: right;\n",
              "    }\n",
              "</style>\n",
              "<table border=\"1\" class=\"dataframe\">\n",
              "  <thead>\n",
              "    <tr style=\"text-align: right;\">\n",
              "      <th></th>\n",
              "      <th>0</th>\n",
              "    </tr>\n",
              "  </thead>\n",
              "  <tbody>\n",
              "    <tr>\n",
              "      <th>discipline_title</th>\n",
              "      <td>0.000000</td>\n",
              "    </tr>\n",
              "    <tr>\n",
              "      <th>slug_game</th>\n",
              "      <td>0.000000</td>\n",
              "    </tr>\n",
              "    <tr>\n",
              "      <th>event_title</th>\n",
              "      <td>0.000000</td>\n",
              "    </tr>\n",
              "    <tr>\n",
              "      <th>event_gender</th>\n",
              "      <td>0.000000</td>\n",
              "    </tr>\n",
              "    <tr>\n",
              "      <th>medal_type</th>\n",
              "      <td>0.000000</td>\n",
              "    </tr>\n",
              "    <tr>\n",
              "      <th>participant_type</th>\n",
              "      <td>0.000000</td>\n",
              "    </tr>\n",
              "    <tr>\n",
              "      <th>participant_title</th>\n",
              "      <td>69.654791</td>\n",
              "    </tr>\n",
              "    <tr>\n",
              "      <th>athlete_url</th>\n",
              "      <td>21.523713</td>\n",
              "    </tr>\n",
              "    <tr>\n",
              "      <th>athlete_full_name</th>\n",
              "      <td>16.702770</td>\n",
              "    </tr>\n",
              "    <tr>\n",
              "      <th>country_name</th>\n",
              "      <td>0.000000</td>\n",
              "    </tr>\n",
              "    <tr>\n",
              "      <th>country_code</th>\n",
              "      <td>6.922616</td>\n",
              "    </tr>\n",
              "    <tr>\n",
              "      <th>country_3_letter_code</th>\n",
              "      <td>0.000000</td>\n",
              "    </tr>\n",
              "  </tbody>\n",
              "</table>\n",
              "</div><br><label><b>dtype:</b> float64</label>"
            ]
          },
          "metadata": {},
          "execution_count": 4
        }
      ]
    },
    {
      "cell_type": "code",
      "source": [
        "# Estadísticas básicas\n",
        "medals_df.describe(include='all')  # incluye texto también\n",
        "results_df.describe()\n"
      ],
      "metadata": {
        "colab": {
          "base_uri": "https://localhost:8080/",
          "height": 212
        },
        "id": "Hlco7z0bH-SV",
        "outputId": "2a37d537-cf1e-44f6-8580-9939b06dd8f1"
      },
      "execution_count": null,
      "outputs": [
        {
          "output_type": "execute_result",
          "data": {
            "text/plain": [
              "       discipline_title       event_title slug_game participant_type  \\\n",
              "count            162804            162804    162804           162804   \n",
              "unique               86              1567        53                2   \n",
              "top           Athletics  individual mixed  rio-2016          Athlete   \n",
              "freq              19259              2731      7672           141646   \n",
              "\n",
              "       medal_type                                           athletes  \\\n",
              "count       20206                                               7976   \n",
              "unique          3                                               6845   \n",
              "top        BRONZE  [('LETOT LETOT', 'https://olympics.com/en/athl...   \n",
              "freq         7029                                                 37   \n",
              "\n",
              "       rank_equal rank_position              country_name country_code  \\\n",
              "count       32526        158926                    162804       157768   \n",
              "unique          2           193                       238          213   \n",
              "top          True             9  United States of America           US   \n",
              "freq        23613          8279                     11916        11916   \n",
              "\n",
              "       country_3_letter_code  \\\n",
              "count                 162804   \n",
              "unique                   233   \n",
              "top                      USA   \n",
              "freq                   11916   \n",
              "\n",
              "                                              athlete_url  athlete_full_name  \\\n",
              "count                                              129991             141646   \n",
              "unique                                              68104              75263   \n",
              "top     https://olympics.com/en/athletes/heikki-savola...  Heikki SAVOLAINEN   \n",
              "freq                                                   34                 34   \n",
              "\n",
              "       value_unit value_type  \n",
              "count       78646      90049  \n",
              "unique      46475         12  \n",
              "top     same time       TIME  \n",
              "freq           99      43774  "
            ],
            "text/html": [
              "\n",
              "  <div id=\"df-f24c9dae-0387-4d5b-bc88-b8f43eafaccb\" class=\"colab-df-container\">\n",
              "    <div>\n",
              "<style scoped>\n",
              "    .dataframe tbody tr th:only-of-type {\n",
              "        vertical-align: middle;\n",
              "    }\n",
              "\n",
              "    .dataframe tbody tr th {\n",
              "        vertical-align: top;\n",
              "    }\n",
              "\n",
              "    .dataframe thead th {\n",
              "        text-align: right;\n",
              "    }\n",
              "</style>\n",
              "<table border=\"1\" class=\"dataframe\">\n",
              "  <thead>\n",
              "    <tr style=\"text-align: right;\">\n",
              "      <th></th>\n",
              "      <th>discipline_title</th>\n",
              "      <th>event_title</th>\n",
              "      <th>slug_game</th>\n",
              "      <th>participant_type</th>\n",
              "      <th>medal_type</th>\n",
              "      <th>athletes</th>\n",
              "      <th>rank_equal</th>\n",
              "      <th>rank_position</th>\n",
              "      <th>country_name</th>\n",
              "      <th>country_code</th>\n",
              "      <th>country_3_letter_code</th>\n",
              "      <th>athlete_url</th>\n",
              "      <th>athlete_full_name</th>\n",
              "      <th>value_unit</th>\n",
              "      <th>value_type</th>\n",
              "    </tr>\n",
              "  </thead>\n",
              "  <tbody>\n",
              "    <tr>\n",
              "      <th>count</th>\n",
              "      <td>162804</td>\n",
              "      <td>162804</td>\n",
              "      <td>162804</td>\n",
              "      <td>162804</td>\n",
              "      <td>20206</td>\n",
              "      <td>7976</td>\n",
              "      <td>32526</td>\n",
              "      <td>158926</td>\n",
              "      <td>162804</td>\n",
              "      <td>157768</td>\n",
              "      <td>162804</td>\n",
              "      <td>129991</td>\n",
              "      <td>141646</td>\n",
              "      <td>78646</td>\n",
              "      <td>90049</td>\n",
              "    </tr>\n",
              "    <tr>\n",
              "      <th>unique</th>\n",
              "      <td>86</td>\n",
              "      <td>1567</td>\n",
              "      <td>53</td>\n",
              "      <td>2</td>\n",
              "      <td>3</td>\n",
              "      <td>6845</td>\n",
              "      <td>2</td>\n",
              "      <td>193</td>\n",
              "      <td>238</td>\n",
              "      <td>213</td>\n",
              "      <td>233</td>\n",
              "      <td>68104</td>\n",
              "      <td>75263</td>\n",
              "      <td>46475</td>\n",
              "      <td>12</td>\n",
              "    </tr>\n",
              "    <tr>\n",
              "      <th>top</th>\n",
              "      <td>Athletics</td>\n",
              "      <td>individual mixed</td>\n",
              "      <td>rio-2016</td>\n",
              "      <td>Athlete</td>\n",
              "      <td>BRONZE</td>\n",
              "      <td>[('LETOT LETOT', 'https://olympics.com/en/athl...</td>\n",
              "      <td>True</td>\n",
              "      <td>9</td>\n",
              "      <td>United States of America</td>\n",
              "      <td>US</td>\n",
              "      <td>USA</td>\n",
              "      <td>https://olympics.com/en/athletes/heikki-savola...</td>\n",
              "      <td>Heikki SAVOLAINEN</td>\n",
              "      <td>same time</td>\n",
              "      <td>TIME</td>\n",
              "    </tr>\n",
              "    <tr>\n",
              "      <th>freq</th>\n",
              "      <td>19259</td>\n",
              "      <td>2731</td>\n",
              "      <td>7672</td>\n",
              "      <td>141646</td>\n",
              "      <td>7029</td>\n",
              "      <td>37</td>\n",
              "      <td>23613</td>\n",
              "      <td>8279</td>\n",
              "      <td>11916</td>\n",
              "      <td>11916</td>\n",
              "      <td>11916</td>\n",
              "      <td>34</td>\n",
              "      <td>34</td>\n",
              "      <td>99</td>\n",
              "      <td>43774</td>\n",
              "    </tr>\n",
              "  </tbody>\n",
              "</table>\n",
              "</div>\n",
              "    <div class=\"colab-df-buttons\">\n",
              "\n",
              "  <div class=\"colab-df-container\">\n",
              "    <button class=\"colab-df-convert\" onclick=\"convertToInteractive('df-f24c9dae-0387-4d5b-bc88-b8f43eafaccb')\"\n",
              "            title=\"Convert this dataframe to an interactive table.\"\n",
              "            style=\"display:none;\">\n",
              "\n",
              "  <svg xmlns=\"http://www.w3.org/2000/svg\" height=\"24px\" viewBox=\"0 -960 960 960\">\n",
              "    <path d=\"M120-120v-720h720v720H120Zm60-500h600v-160H180v160Zm220 220h160v-160H400v160Zm0 220h160v-160H400v160ZM180-400h160v-160H180v160Zm440 0h160v-160H620v160ZM180-180h160v-160H180v160Zm440 0h160v-160H620v160Z\"/>\n",
              "  </svg>\n",
              "    </button>\n",
              "\n",
              "  <style>\n",
              "    .colab-df-container {\n",
              "      display:flex;\n",
              "      gap: 12px;\n",
              "    }\n",
              "\n",
              "    .colab-df-convert {\n",
              "      background-color: #E8F0FE;\n",
              "      border: none;\n",
              "      border-radius: 50%;\n",
              "      cursor: pointer;\n",
              "      display: none;\n",
              "      fill: #1967D2;\n",
              "      height: 32px;\n",
              "      padding: 0 0 0 0;\n",
              "      width: 32px;\n",
              "    }\n",
              "\n",
              "    .colab-df-convert:hover {\n",
              "      background-color: #E2EBFA;\n",
              "      box-shadow: 0px 1px 2px rgba(60, 64, 67, 0.3), 0px 1px 3px 1px rgba(60, 64, 67, 0.15);\n",
              "      fill: #174EA6;\n",
              "    }\n",
              "\n",
              "    .colab-df-buttons div {\n",
              "      margin-bottom: 4px;\n",
              "    }\n",
              "\n",
              "    [theme=dark] .colab-df-convert {\n",
              "      background-color: #3B4455;\n",
              "      fill: #D2E3FC;\n",
              "    }\n",
              "\n",
              "    [theme=dark] .colab-df-convert:hover {\n",
              "      background-color: #434B5C;\n",
              "      box-shadow: 0px 1px 3px 1px rgba(0, 0, 0, 0.15);\n",
              "      filter: drop-shadow(0px 1px 2px rgba(0, 0, 0, 0.3));\n",
              "      fill: #FFFFFF;\n",
              "    }\n",
              "  </style>\n",
              "\n",
              "    <script>\n",
              "      const buttonEl =\n",
              "        document.querySelector('#df-f24c9dae-0387-4d5b-bc88-b8f43eafaccb button.colab-df-convert');\n",
              "      buttonEl.style.display =\n",
              "        google.colab.kernel.accessAllowed ? 'block' : 'none';\n",
              "\n",
              "      async function convertToInteractive(key) {\n",
              "        const element = document.querySelector('#df-f24c9dae-0387-4d5b-bc88-b8f43eafaccb');\n",
              "        const dataTable =\n",
              "          await google.colab.kernel.invokeFunction('convertToInteractive',\n",
              "                                                    [key], {});\n",
              "        if (!dataTable) return;\n",
              "\n",
              "        const docLinkHtml = 'Like what you see? Visit the ' +\n",
              "          '<a target=\"_blank\" href=https://colab.research.google.com/notebooks/data_table.ipynb>data table notebook</a>'\n",
              "          + ' to learn more about interactive tables.';\n",
              "        element.innerHTML = '';\n",
              "        dataTable['output_type'] = 'display_data';\n",
              "        await google.colab.output.renderOutput(dataTable, element);\n",
              "        const docLink = document.createElement('div');\n",
              "        docLink.innerHTML = docLinkHtml;\n",
              "        element.appendChild(docLink);\n",
              "      }\n",
              "    </script>\n",
              "  </div>\n",
              "\n",
              "\n",
              "    <div id=\"df-95b02f19-fb21-41ec-a4d8-8e4187aefd8c\">\n",
              "      <button class=\"colab-df-quickchart\" onclick=\"quickchart('df-95b02f19-fb21-41ec-a4d8-8e4187aefd8c')\"\n",
              "                title=\"Suggest charts\"\n",
              "                style=\"display:none;\">\n",
              "\n",
              "<svg xmlns=\"http://www.w3.org/2000/svg\" height=\"24px\"viewBox=\"0 0 24 24\"\n",
              "     width=\"24px\">\n",
              "    <g>\n",
              "        <path d=\"M19 3H5c-1.1 0-2 .9-2 2v14c0 1.1.9 2 2 2h14c1.1 0 2-.9 2-2V5c0-1.1-.9-2-2-2zM9 17H7v-7h2v7zm4 0h-2V7h2v10zm4 0h-2v-4h2v4z\"/>\n",
              "    </g>\n",
              "</svg>\n",
              "      </button>\n",
              "\n",
              "<style>\n",
              "  .colab-df-quickchart {\n",
              "      --bg-color: #E8F0FE;\n",
              "      --fill-color: #1967D2;\n",
              "      --hover-bg-color: #E2EBFA;\n",
              "      --hover-fill-color: #174EA6;\n",
              "      --disabled-fill-color: #AAA;\n",
              "      --disabled-bg-color: #DDD;\n",
              "  }\n",
              "\n",
              "  [theme=dark] .colab-df-quickchart {\n",
              "      --bg-color: #3B4455;\n",
              "      --fill-color: #D2E3FC;\n",
              "      --hover-bg-color: #434B5C;\n",
              "      --hover-fill-color: #FFFFFF;\n",
              "      --disabled-bg-color: #3B4455;\n",
              "      --disabled-fill-color: #666;\n",
              "  }\n",
              "\n",
              "  .colab-df-quickchart {\n",
              "    background-color: var(--bg-color);\n",
              "    border: none;\n",
              "    border-radius: 50%;\n",
              "    cursor: pointer;\n",
              "    display: none;\n",
              "    fill: var(--fill-color);\n",
              "    height: 32px;\n",
              "    padding: 0;\n",
              "    width: 32px;\n",
              "  }\n",
              "\n",
              "  .colab-df-quickchart:hover {\n",
              "    background-color: var(--hover-bg-color);\n",
              "    box-shadow: 0 1px 2px rgba(60, 64, 67, 0.3), 0 1px 3px 1px rgba(60, 64, 67, 0.15);\n",
              "    fill: var(--button-hover-fill-color);\n",
              "  }\n",
              "\n",
              "  .colab-df-quickchart-complete:disabled,\n",
              "  .colab-df-quickchart-complete:disabled:hover {\n",
              "    background-color: var(--disabled-bg-color);\n",
              "    fill: var(--disabled-fill-color);\n",
              "    box-shadow: none;\n",
              "  }\n",
              "\n",
              "  .colab-df-spinner {\n",
              "    border: 2px solid var(--fill-color);\n",
              "    border-color: transparent;\n",
              "    border-bottom-color: var(--fill-color);\n",
              "    animation:\n",
              "      spin 1s steps(1) infinite;\n",
              "  }\n",
              "\n",
              "  @keyframes spin {\n",
              "    0% {\n",
              "      border-color: transparent;\n",
              "      border-bottom-color: var(--fill-color);\n",
              "      border-left-color: var(--fill-color);\n",
              "    }\n",
              "    20% {\n",
              "      border-color: transparent;\n",
              "      border-left-color: var(--fill-color);\n",
              "      border-top-color: var(--fill-color);\n",
              "    }\n",
              "    30% {\n",
              "      border-color: transparent;\n",
              "      border-left-color: var(--fill-color);\n",
              "      border-top-color: var(--fill-color);\n",
              "      border-right-color: var(--fill-color);\n",
              "    }\n",
              "    40% {\n",
              "      border-color: transparent;\n",
              "      border-right-color: var(--fill-color);\n",
              "      border-top-color: var(--fill-color);\n",
              "    }\n",
              "    60% {\n",
              "      border-color: transparent;\n",
              "      border-right-color: var(--fill-color);\n",
              "    }\n",
              "    80% {\n",
              "      border-color: transparent;\n",
              "      border-right-color: var(--fill-color);\n",
              "      border-bottom-color: var(--fill-color);\n",
              "    }\n",
              "    90% {\n",
              "      border-color: transparent;\n",
              "      border-bottom-color: var(--fill-color);\n",
              "    }\n",
              "  }\n",
              "</style>\n",
              "\n",
              "      <script>\n",
              "        async function quickchart(key) {\n",
              "          const quickchartButtonEl =\n",
              "            document.querySelector('#' + key + ' button');\n",
              "          quickchartButtonEl.disabled = true;  // To prevent multiple clicks.\n",
              "          quickchartButtonEl.classList.add('colab-df-spinner');\n",
              "          try {\n",
              "            const charts = await google.colab.kernel.invokeFunction(\n",
              "                'suggestCharts', [key], {});\n",
              "          } catch (error) {\n",
              "            console.error('Error during call to suggestCharts:', error);\n",
              "          }\n",
              "          quickchartButtonEl.classList.remove('colab-df-spinner');\n",
              "          quickchartButtonEl.classList.add('colab-df-quickchart-complete');\n",
              "        }\n",
              "        (() => {\n",
              "          let quickchartButtonEl =\n",
              "            document.querySelector('#df-95b02f19-fb21-41ec-a4d8-8e4187aefd8c button');\n",
              "          quickchartButtonEl.style.display =\n",
              "            google.colab.kernel.accessAllowed ? 'block' : 'none';\n",
              "        })();\n",
              "      </script>\n",
              "    </div>\n",
              "\n",
              "    </div>\n",
              "  </div>\n"
            ],
            "application/vnd.google.colaboratory.intrinsic+json": {
              "type": "dataframe",
              "summary": "{\n  \"name\": \"results_df\",\n  \"rows\": 4,\n  \"fields\": [\n    {\n      \"column\": \"discipline_title\",\n      \"properties\": {\n        \"dtype\": \"string\",\n        \"num_unique_values\": 4,\n        \"samples\": [\n          86,\n          \"19259\",\n          \"162804\"\n        ],\n        \"semantic_type\": \"\",\n        \"description\": \"\"\n      }\n    },\n    {\n      \"column\": \"event_title\",\n      \"properties\": {\n        \"dtype\": \"string\",\n        \"num_unique_values\": 4,\n        \"samples\": [\n          1567,\n          \"2731\",\n          \"162804\"\n        ],\n        \"semantic_type\": \"\",\n        \"description\": \"\"\n      }\n    },\n    {\n      \"column\": \"slug_game\",\n      \"properties\": {\n        \"dtype\": \"string\",\n        \"num_unique_values\": 4,\n        \"samples\": [\n          53,\n          \"7672\",\n          \"162804\"\n        ],\n        \"semantic_type\": \"\",\n        \"description\": \"\"\n      }\n    },\n    {\n      \"column\": \"participant_type\",\n      \"properties\": {\n        \"dtype\": \"string\",\n        \"num_unique_values\": 4,\n        \"samples\": [\n          2,\n          \"141646\",\n          \"162804\"\n        ],\n        \"semantic_type\": \"\",\n        \"description\": \"\"\n      }\n    },\n    {\n      \"column\": \"medal_type\",\n      \"properties\": {\n        \"dtype\": \"string\",\n        \"num_unique_values\": 4,\n        \"samples\": [\n          3,\n          \"7029\",\n          \"20206\"\n        ],\n        \"semantic_type\": \"\",\n        \"description\": \"\"\n      }\n    },\n    {\n      \"column\": \"athletes\",\n      \"properties\": {\n        \"dtype\": \"string\",\n        \"num_unique_values\": 4,\n        \"samples\": [\n          6845,\n          \"37\",\n          \"7976\"\n        ],\n        \"semantic_type\": \"\",\n        \"description\": \"\"\n      }\n    },\n    {\n      \"column\": \"rank_equal\",\n      \"properties\": {\n        \"dtype\": \"string\",\n        \"num_unique_values\": 4,\n        \"samples\": [\n          2,\n          \"23613\",\n          \"32526\"\n        ],\n        \"semantic_type\": \"\",\n        \"description\": \"\"\n      }\n    },\n    {\n      \"column\": \"rank_position\",\n      \"properties\": {\n        \"dtype\": \"string\",\n        \"num_unique_values\": 4,\n        \"samples\": [\n          193,\n          \"8279\",\n          \"158926\"\n        ],\n        \"semantic_type\": \"\",\n        \"description\": \"\"\n      }\n    },\n    {\n      \"column\": \"country_name\",\n      \"properties\": {\n        \"dtype\": \"string\",\n        \"num_unique_values\": 4,\n        \"samples\": [\n          238,\n          \"11916\",\n          \"162804\"\n        ],\n        \"semantic_type\": \"\",\n        \"description\": \"\"\n      }\n    },\n    {\n      \"column\": \"country_code\",\n      \"properties\": {\n        \"dtype\": \"string\",\n        \"num_unique_values\": 4,\n        \"samples\": [\n          213,\n          \"11916\",\n          \"157768\"\n        ],\n        \"semantic_type\": \"\",\n        \"description\": \"\"\n      }\n    },\n    {\n      \"column\": \"country_3_letter_code\",\n      \"properties\": {\n        \"dtype\": \"string\",\n        \"num_unique_values\": 4,\n        \"samples\": [\n          233,\n          \"11916\",\n          \"162804\"\n        ],\n        \"semantic_type\": \"\",\n        \"description\": \"\"\n      }\n    },\n    {\n      \"column\": \"athlete_url\",\n      \"properties\": {\n        \"dtype\": \"string\",\n        \"num_unique_values\": 4,\n        \"samples\": [\n          68104,\n          \"34\",\n          \"129991\"\n        ],\n        \"semantic_type\": \"\",\n        \"description\": \"\"\n      }\n    },\n    {\n      \"column\": \"athlete_full_name\",\n      \"properties\": {\n        \"dtype\": \"string\",\n        \"num_unique_values\": 4,\n        \"samples\": [\n          75263,\n          \"34\",\n          \"141646\"\n        ],\n        \"semantic_type\": \"\",\n        \"description\": \"\"\n      }\n    },\n    {\n      \"column\": \"value_unit\",\n      \"properties\": {\n        \"dtype\": \"string\",\n        \"num_unique_values\": 4,\n        \"samples\": [\n          46475,\n          \"99\",\n          \"78646\"\n        ],\n        \"semantic_type\": \"\",\n        \"description\": \"\"\n      }\n    },\n    {\n      \"column\": \"value_type\",\n      \"properties\": {\n        \"dtype\": \"string\",\n        \"num_unique_values\": 4,\n        \"samples\": [\n          12,\n          \"43774\",\n          \"90049\"\n        ],\n        \"semantic_type\": \"\",\n        \"description\": \"\"\n      }\n    }\n  ]\n}"
            }
          },
          "metadata": {},
          "execution_count": 5
        }
      ]
    },
    {
      "cell_type": "code",
      "source": [
        "import seaborn as sns\n",
        "import matplotlib.pyplot as plt\n",
        "\n",
        "# Distribución de tipos de medallas\n",
        "sns.countplot(data=medals_df, x='medal_type', order=['GOLD', 'SILVER', 'BRONZE'])\n",
        "plt.title('Distribución de Medallas')\n",
        "plt.show()\n",
        "\n",
        "# Distribución de eventos por género\n",
        "sns.countplot(data=medals_df, x='event_gender')\n",
        "plt.title('Distribución por Género')\n",
        "plt.show()\n"
      ],
      "metadata": {
        "colab": {
          "base_uri": "https://localhost:8080/",
          "height": 927
        },
        "id": "34J8feeTII5J",
        "outputId": "3ee7a2df-de13-4250-aa7e-11da56c878a5"
      },
      "execution_count": null,
      "outputs": [
        {
          "output_type": "display_data",
          "data": {
            "text/plain": [
              "<Figure size 640x480 with 1 Axes>"
            ],
            "image/png": "[encoded data removed]"
          },
          "metadata": {}
        },
        {
          "output_type": "display_data",
          "data": {
            "text/plain": [
              "<Figure size 640x480 with 1 Axes>"
            ],
            "image/png": "[encoded data removed]"
          },
          "metadata": {}
        }
      ]
    },
    {
      "cell_type": "code",
      "source": [
        "medals_pivot = medals_df.pivot_table(index='country_name', columns='medal_type', aggfunc='size', fill_value=0)\n",
        "medals_pivot.sort_values(by='GOLD', ascending=False).head(10).plot(kind='bar', stacked=True)\n",
        "plt.title('Top 10 Países por Tipo de Medalla')\n",
        "plt.show()\n"
      ],
      "metadata": {
        "colab": {
          "base_uri": "https://localhost:8080/",
          "height": 641
        },
        "id": "U0LwdhjoIOux",
        "outputId": "5b2baf1c-3b50-4b27-b3bc-da12a3863227"
      },
      "execution_count": null,
      "outputs": [
        {
          "output_type": "display_data",
          "data": {
            "text/plain": [
              "<Figure size 640x480 with 1 Axes>"
            ],
            "image/png": "[encoded data removed]"
          },
          "metadata": {}
        }
      ]
    },
    {
      "cell_type": "code",
      "source": [
        "# 1. ¿Qué país ganó más medallas?\n",
        "print(medals_df['country_name'].value_counts().head(1))"
      ],
      "metadata": {
        "colab": {
          "base_uri": "https://localhost:8080/"
        },
        "id": "ejC_FOhwIiPB",
        "outputId": "0d37250e-1192-4ede-e9fe-3388df33771d"
      },
      "execution_count": null,
      "outputs": [
        {
          "output_type": "stream",
          "name": "stdout",
          "text": [
            "country_name\n",
            "United States of America    3094\n",
            "Name: count, dtype: int64\n"
          ]
        }
      ]
    },
    {
      "cell_type": "code",
      "source": [
        "# 2. ¿Cuál es el deporte más premiado?\n",
        "print(medals_df['discipline_title'].value_counts().head(1))"
      ],
      "metadata": {
        "colab": {
          "base_uri": "https://localhost:8080/"
        },
        "id": "f9pxK25uImkM",
        "outputId": "9c542249-970f-4978-97a1-5e6cbb417671"
      },
      "execution_count": null,
      "outputs": [
        {
          "output_type": "stream",
          "name": "stdout",
          "text": [
            "discipline_title\n",
            "Athletics    3080\n",
            "Name: count, dtype: int64\n"
          ]
        }
      ]
    },
    {
      "cell_type": "code",
      "source": [
        "# 3. ¿Cuál es el evento con más medallas?\n",
        "print(medals_df['event_title'].value_counts().head(1))"
      ],
      "metadata": {
        "colab": {
          "base_uri": "https://localhost:8080/"
        },
        "id": "d2s9kfaMIpTg",
        "outputId": "2163bc7a-c662-4539-d221-be66d8c4b0f7"
      },
      "execution_count": null,
      "outputs": [
        {
          "output_type": "stream",
          "name": "stdout",
          "text": [
            "event_title\n",
            "Individual men    215\n",
            "Name: count, dtype: int64\n"
          ]
        }
      ]
    },
    {
      "cell_type": "code",
      "source": [
        "# 4. ¿Cuál es el año con más medallas?\n",
        "print(medals_df['slug_game'].value_counts().head(1))\n"
      ],
      "metadata": {
        "colab": {
          "base_uri": "https://localhost:8080/"
        },
        "id": "V6D6lBNpIvs4",
        "outputId": "2b2c80e9-de7b-42f3-8a48-128e434f401f"
      },
      "execution_count": null,
      "outputs": [
        {
          "output_type": "stream",
          "name": "stdout",
          "text": [
            "slug_game\n",
            "tokyo-2020    1188\n",
            "Name: count, dtype: int64\n"
          ]
        }
      ]
    },
    {
      "cell_type": "code",
      "source": [
        "# 5. ¿Cuál atleta tiene más medallas?\n",
        "print(medals_df['athlete_full_name'].value_counts().head(1))"
      ],
      "metadata": {
        "colab": {
          "base_uri": "https://localhost:8080/"
        },
        "id": "Z2RkGXNxIy03",
        "outputId": "46ce0079-b323-4df0-b7fe-dabc9d9fc4d0"
      },
      "execution_count": null,
      "outputs": [
        {
          "output_type": "stream",
          "name": "stdout",
          "text": [
            "athlete_full_name\n",
            "Michael PHELPS    16\n",
            "Name: count, dtype: int64\n"
          ]
        }
      ]
    },
    {
      "cell_type": "code",
      "source": [
        "# 6. ¿Qué género tiene más medallas?\n",
        "print(medals_df['event_gender'].value_counts())"
      ],
      "metadata": {
        "colab": {
          "base_uri": "https://localhost:8080/"
        },
        "id": "PMqsgV6cI1-v",
        "outputId": "0f6ff5e5-7812-4c2a-8d74-45f2e1a2b721"
      },
      "execution_count": null,
      "outputs": [
        {
          "output_type": "stream",
          "name": "stdout",
          "text": [
            "event_gender\n",
            "Men      13932\n",
            "Women     6323\n",
            "Open       998\n",
            "Mixed      444\n",
            "Name: count, dtype: int64\n"
          ]
        }
      ]
    },
    {
      "cell_type": "code",
      "source": [
        "# 7. ¿Qué país domina la natación?\n",
        "swimming = medals_df[medals_df['discipline_title'] == 'Swimming']\n",
        "print(swimming['country_name'].value_counts().head(1))\n"
      ],
      "metadata": {
        "colab": {
          "base_uri": "https://localhost:8080/"
        },
        "id": "LiajJMtsI-se",
        "outputId": "3789aaf5-9acd-4890-a901-8b8550459c82"
      },
      "execution_count": null,
      "outputs": [
        {
          "output_type": "stream",
          "name": "stdout",
          "text": [
            "country_name\n",
            "United States of America    581\n",
            "Name: count, dtype: int64\n"
          ]
        }
      ]
    },
    {
      "cell_type": "code",
      "source": [
        "# 8. ¿Cuántas medallas ganó USA?\n",
        "usa = medals_df[medals_df['country_name'] == 'United States of America']\n",
        "print(len(usa))"
      ],
      "metadata": {
        "colab": {
          "base_uri": "https://localhost:8080/"
        },
        "id": "obnjfM8pJKjR",
        "outputId": "13d8ba19-1062-48b8-f11c-3ef6055ca595"
      },
      "execution_count": null,
      "outputs": [
        {
          "output_type": "stream",
          "name": "stdout",
          "text": [
            "3094\n"
          ]
        }
      ]
    },
    {
      "cell_type": "code",
      "source": [
        "# 9. ¿Qué país ganó más medallas de oro?\n",
        "print(medals_df[medals_df['medal_type'] == 'GOLD']['country_name'].value_counts().head(1))\n"
      ],
      "metadata": {
        "colab": {
          "base_uri": "https://localhost:8080/"
        },
        "id": "RRp4cu-8JNgt",
        "outputId": "a9a88597-9ee2-4bee-9347-1acefd9c051d"
      },
      "execution_count": null,
      "outputs": [
        {
          "output_type": "stream",
          "name": "stdout",
          "text": [
            "country_name\n",
            "United States of America    1222\n",
            "Name: count, dtype: int64\n"
          ]
        }
      ]
    },
    {
      "cell_type": "code",
      "source": [
        "# 10. ¿Cuántos eventos mixtos hay?\n",
        "print(len(medals_df[medals_df['event_gender'] == 'Mixed']))"
      ],
      "metadata": {
        "colab": {
          "base_uri": "https://localhost:8080/"
        },
        "id": "ZmCKc9ofJT-p",
        "outputId": "cc9d960e-f2cb-4d81-f39f-0274e13612ca"
      },
      "execution_count": null,
      "outputs": [
        {
          "output_type": "stream",
          "name": "stdout",
          "text": [
            "444\n"
          ]
        }
      ]
    }
  ]
}